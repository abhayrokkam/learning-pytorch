{
 "cells": [
  {
   "cell_type": "code",
   "execution_count": 3,
   "metadata": {},
   "outputs": [],
   "source": [
    "# Importing the necessary libraries\n",
    "\n",
    "import torch\n",
    "import numpy as np"
   ]
  },
  {
   "cell_type": "markdown",
   "metadata": {},
   "source": [
    "## Tensor Basics"
   ]
  },
  {
   "cell_type": "code",
   "execution_count": 4,
   "metadata": {},
   "outputs": [],
   "source": [
    "# Creating a matrix\n",
    "M = torch.tensor([[4,5],\n",
    "                  [5,2]]) # Matrix and Tensor have to CAPS (industry standard)"
   ]
  },
  {
   "cell_type": "code",
   "execution_count": 5,
   "metadata": {},
   "outputs": [
    {
     "data": {
      "text/plain": [
       "tensor(4)"
      ]
     },
     "execution_count": 5,
     "metadata": {},
     "output_type": "execute_result"
    }
   ],
   "source": [
    "# Retrieving elements of a tensor\n",
    "M[0][0]"
   ]
  },
  {
   "cell_type": "code",
   "execution_count": 6,
   "metadata": {},
   "outputs": [
    {
     "data": {
      "text/plain": [
       "torch.Size([2, 3, 3])"
      ]
     },
     "execution_count": 6,
     "metadata": {},
     "output_type": "execute_result"
    }
   ],
   "source": [
    "# Creating a tensor(3D)\n",
    "t = torch.tensor([[[4,5,6],\n",
    "                   [4,2,4],\n",
    "                   [4,6,2]],\n",
    "                  [[3,4,2],\n",
    "                   [3,2,6],\n",
    "                   [4,6,2]]])\n",
    "\n",
    "# Checking the shape of the tensor\n",
    "t.shape"
   ]
  },
  {
   "cell_type": "code",
   "execution_count": 7,
   "metadata": {},
   "outputs": [
    {
     "data": {
      "text/plain": [
       "tensor([[0.7276, 0.9480, 0.1489, 0.3300, 0.7247],\n",
       "        [0.9770, 0.2317, 0.5237, 0.1692, 0.1943],\n",
       "        [0.3223, 0.0650, 0.0435, 0.4795, 0.9878],\n",
       "        [0.8613, 0.4788, 0.4576, 0.3006, 0.3119],\n",
       "        [0.5572, 0.4512, 0.5237, 0.9250, 0.5204],\n",
       "        [0.5231, 0.9591, 0.2275, 0.2804, 0.6944],\n",
       "        [0.1566, 0.0940, 0.6242, 0.9918, 0.8617],\n",
       "        [0.3299, 0.0664, 0.3814, 0.8496, 0.5294]])"
      ]
     },
     "execution_count": 7,
     "metadata": {},
     "output_type": "execute_result"
    }
   ],
   "source": [
    "# Creating a random tensor\n",
    "random = torch.rand(size=(8,5))\n",
    "random"
   ]
  },
  {
   "cell_type": "code",
   "execution_count": 8,
   "metadata": {},
   "outputs": [
    {
     "data": {
      "text/plain": [
       "tensor([[0., 0., 0., 0.],\n",
       "        [0., 0., 0., 0.]])"
      ]
     },
     "execution_count": 8,
     "metadata": {},
     "output_type": "execute_result"
    }
   ],
   "source": [
    "# Creating a tensor of zeroes\n",
    "z = torch.zeros(size = (2,4))\n",
    "z"
   ]
  },
  {
   "cell_type": "code",
   "execution_count": 9,
   "metadata": {},
   "outputs": [
    {
     "data": {
      "text/plain": [
       "tensor([[1., 1., 1., 1.],\n",
       "        [1., 1., 1., 1.],\n",
       "        [1., 1., 1., 1.],\n",
       "        [1., 1., 1., 1.]])"
      ]
     },
     "execution_count": 9,
     "metadata": {},
     "output_type": "execute_result"
    }
   ],
   "source": [
    "# Creating a tensor of ones\n",
    "o = torch.ones(size = (4,4))\n",
    "o"
   ]
  },
  {
   "cell_type": "code",
   "execution_count": 10,
   "metadata": {},
   "outputs": [
    {
     "data": {
      "text/plain": [
       "tensor([25, 28, 31, 34, 37, 40, 43, 46, 49])"
      ]
     },
     "execution_count": 10,
     "metadata": {},
     "output_type": "execute_result"
    }
   ],
   "source": [
    "# A range of numbers with steps\n",
    "num_list = torch.arange(start=25, end=50, step = 3)\n",
    "num_list"
   ]
  },
  {
   "cell_type": "code",
   "execution_count": 11,
   "metadata": {},
   "outputs": [
    {
     "data": {
      "text/plain": [
       "tensor([0, 0, 0, 0, 0, 0, 0, 0, 0])"
      ]
     },
     "execution_count": 11,
     "metadata": {},
     "output_type": "execute_result"
    }
   ],
   "source": [
    "# Like functions of pytorch\n",
    "num_zeros = torch.zeros_like(input = num_list)\n",
    "num_zeros"
   ]
  },
  {
   "cell_type": "code",
   "execution_count": 12,
   "metadata": {},
   "outputs": [
    {
     "data": {
      "text/plain": [
       "True"
      ]
     },
     "execution_count": 12,
     "metadata": {},
     "output_type": "execute_result"
    }
   ],
   "source": [
    "# Verifying the shapes of 'like'\n",
    "num_zeros.shape == num_list.shape"
   ]
  },
  {
   "cell_type": "code",
   "execution_count": 13,
   "metadata": {},
   "outputs": [
    {
     "name": "stdout",
     "output_type": "stream",
     "text": [
      "tensor([[0.7530, 0.4017, 0.6917],\n",
      "        [0.1271, 0.2720, 0.9327],\n",
      "        [0.6947, 0.5528, 0.0167]])\n",
      "torch.float32\n",
      "\n",
      "tensor([[0.6934, 0.3862, 0.7056],\n",
      "        [0.5581, 0.1196, 0.3716],\n",
      "        [0.4521, 0.9478, 0.4106]], dtype=torch.float16)\n",
      "torch.float16\n"
     ]
    }
   ],
   "source": [
    "# Checking different dtypes\n",
    "a = torch.rand(size = (3,3))\n",
    "print(a)\n",
    "print(a.dtype)\n",
    "\n",
    "print()\n",
    "\n",
    "b = torch.rand(size = (3,3), dtype = torch.float16)\n",
    "print(b)\n",
    "print(b.dtype)"
   ]
  },
  {
   "cell_type": "code",
   "execution_count": 14,
   "metadata": {},
   "outputs": [
    {
     "name": "stdout",
     "output_type": "stream",
     "text": [
      "torch.float32\n"
     ]
    }
   ],
   "source": [
    "# Checking the resulting dtype\n",
    "c = a * b\n",
    "print(c.dtype) # chooses the dtype which is larger"
   ]
  },
  {
   "cell_type": "code",
   "execution_count": 15,
   "metadata": {},
   "outputs": [
    {
     "name": "stdout",
     "output_type": "stream",
     "text": [
      "torch.float16\n",
      "torch.float16\n"
     ]
    }
   ],
   "source": [
    "# Verifying the resulting dtype\n",
    "c = c.type(torch.float16)\n",
    "print(c.dtype)\n",
    "\n",
    "d = c * b\n",
    "print(d.dtype)"
   ]
  },
  {
   "cell_type": "markdown",
   "metadata": {},
   "source": [
    "## Tensor Operations"
   ]
  },
  {
   "cell_type": "code",
   "execution_count": 16,
   "metadata": {},
   "outputs": [
    {
     "name": "stdout",
     "output_type": "stream",
     "text": [
      "tensor([[1, 2, 3],\n",
      "        [4, 5, 6]])\n",
      "\n",
      "Addition\n",
      "tensor([[11, 12, 13],\n",
      "        [14, 15, 16]])\n",
      "\n",
      "Subtraction\n",
      "tensor([[-9, -8, -7],\n",
      "        [-6, -5, -4]])\n",
      "\n",
      "Scalar Multiplication\n",
      "tensor([[10, 20, 30],\n",
      "        [40, 50, 60]])\n",
      "\n",
      "Division\n",
      "tensor([[0.1000, 0.2000, 0.3000],\n",
      "        [0.4000, 0.5000, 0.6000]])\n"
     ]
    }
   ],
   "source": [
    "# Basic operations\n",
    "x = torch.tensor([[1,2,3],\n",
    "                  [4,5,6]])\n",
    "\n",
    "print(x)\n",
    "\n",
    "print()\n",
    "print(\"Addition\")\n",
    "print(x + 10)\n",
    "\n",
    "print()\n",
    "print(\"Subtraction\")\n",
    "print(x - 10)\n",
    "\n",
    "print()\n",
    "print(\"Scalar Multiplication\")\n",
    "print(x * 10)\n",
    "\n",
    "print()\n",
    "print(\"Division\")\n",
    "print(x / 10)"
   ]
  },
  {
   "cell_type": "code",
   "execution_count": 17,
   "metadata": {},
   "outputs": [
    {
     "name": "stdout",
     "output_type": "stream",
     "text": [
      "tensor([[11, 12, 13],\n",
      "        [14, 15, 16]])\n",
      "\n",
      "tensor([[11, 12, 13],\n",
      "        [14, 15, 16]])\n"
     ]
    }
   ],
   "source": [
    "# Other available functions for basic operations\n",
    "print(x.add(10))\n",
    "\n",
    "print()\n",
    "\n",
    "print(torch.add(x,10))"
   ]
  },
  {
   "cell_type": "code",
   "execution_count": 18,
   "metadata": {},
   "outputs": [
    {
     "name": "stdout",
     "output_type": "stream",
     "text": [
      "tensor([[ 30,  36,  42],\n",
      "        [ 66,  81,  96],\n",
      "        [102, 126, 150]])\n"
     ]
    }
   ],
   "source": [
    "# Matrix multiplication (dot product)\n",
    "a = torch.tensor([[1,2,3],\n",
    "                  [4,5,6],\n",
    "                  [7,8,9]])\n",
    "\n",
    "c = a.matmul(a)\n",
    "print(c)"
   ]
  },
  {
   "cell_type": "code",
   "execution_count": 19,
   "metadata": {},
   "outputs": [
    {
     "name": "stdout",
     "output_type": "stream",
     "text": [
      "tensor([[ 30,  36,  42],\n",
      "        [ 66,  81,  96],\n",
      "        [102, 126, 150]])\n",
      "\n",
      "tensor([[ 30,  36,  42],\n",
      "        [ 66,  81,  96],\n",
      "        [102, 126, 150]])\n"
     ]
    }
   ],
   "source": [
    "# Operator for matrix multiplication\n",
    "print(a @ a)\n",
    "\n",
    "print()\n",
    "\n",
    "# Other function for matrix multiplication\n",
    "print(torch.mm(a,a))"
   ]
  },
  {
   "cell_type": "code",
   "execution_count": 20,
   "metadata": {},
   "outputs": [
    {
     "name": "stdout",
     "output_type": "stream",
     "text": [
      "CPU times: user 2 μs, sys: 0 ns, total: 2 μs\n",
      "Wall time: 5.48 μs\n",
      "torch.Size([20, 30])\n"
     ]
    }
   ],
   "source": [
    "# Bigger tensor with time taken\n",
    "%time\n",
    "a = torch.rand(size=(20,25))\n",
    "b = torch.rand(size=(25,30))\n",
    "c = a.matmul(b)\n",
    "\n",
    "print(c.shape)"
   ]
  },
  {
   "cell_type": "code",
   "execution_count": 21,
   "metadata": {},
   "outputs": [
    {
     "name": "stdout",
     "output_type": "stream",
     "text": [
      "tensor([[0.7164, 0.4760],\n",
      "        [0.3728, 0.0461],\n",
      "        [0.0887, 0.1733]])\n",
      "\n",
      "Matrix Transposed\n",
      "tensor([[0.7164, 0.3728, 0.0887],\n",
      "        [0.4760, 0.0461, 0.1733]])\n",
      "\n",
      "tensor([[0.7397, 0.2890, 0.1460],\n",
      "        [0.2890, 0.1411, 0.0410],\n",
      "        [0.1460, 0.0410, 0.0379]])\n"
     ]
    }
   ],
   "source": [
    "# Matrix Transpose\n",
    "a = torch.rand(size=(3,2))\n",
    "print(a)\n",
    "\n",
    "print()\n",
    "\n",
    "print(\"Matrix Transposed\")\n",
    "print(a.T)\n",
    "\n",
    "print()\n",
    "\n",
    "b = torch.matmul(a, a.T)\n",
    "print(b)"
   ]
  },
  {
   "cell_type": "markdown",
   "metadata": {},
   "source": [
    "## Tensor Aggregation"
   ]
  },
  {
   "cell_type": "code",
   "execution_count": 22,
   "metadata": {},
   "outputs": [
    {
     "data": {
      "text/plain": [
       "tensor([[78., 73., 56., 65.],\n",
       "        [15., 47., 57., 55.],\n",
       "        [ 7., 63., 88., 85.]])"
      ]
     },
     "execution_count": 22,
     "metadata": {},
     "output_type": "execute_result"
    }
   ],
   "source": [
    "# Random tensor\n",
    "x = torch.randint(high = 100, size=(3,4))\n",
    "x = x.type(torch.float32)\n",
    "x"
   ]
  },
  {
   "cell_type": "code",
   "execution_count": 23,
   "metadata": {},
   "outputs": [
    {
     "name": "stdout",
     "output_type": "stream",
     "text": [
      "tensor(7.)\n",
      "tensor(7.)\n",
      "\n",
      "tensor(88.)\n",
      "\n",
      "tensor(57.4167)\n",
      "tensor(689.)\n"
     ]
    }
   ],
   "source": [
    "# Min\n",
    "print(torch.min(x))\n",
    "print(x.min())\n",
    "print()\n",
    "\n",
    "# Max\n",
    "print(x.max())\n",
    "print()\n",
    "\n",
    "# Mean\n",
    "print(x.mean())\n",
    "\n",
    "# Sum\n",
    "print(x.sum())"
   ]
  },
  {
   "cell_type": "code",
   "execution_count": 24,
   "metadata": {},
   "outputs": [
    {
     "name": "stdout",
     "output_type": "stream",
     "text": [
      "Position of min:\n",
      "tensor(8)\n",
      "\n",
      "Postion of max:\n",
      "tensor(10)\n"
     ]
    }
   ],
   "source": [
    "# Positinal Min, Max (Arg Min, Max)\n",
    "print(\"Position of min:\")\n",
    "print(x.argmin())\n",
    "print()\n",
    "\n",
    "print(\"Postion of max:\")\n",
    "print(x.argmax())"
   ]
  },
  {
   "cell_type": "markdown",
   "metadata": {},
   "source": [
    "## Dimensional Manipulation"
   ]
  },
  {
   "cell_type": "code",
   "execution_count": 25,
   "metadata": {},
   "outputs": [
    {
     "name": "stdout",
     "output_type": "stream",
     "text": [
      "tensor([[ 8, 25, 63, 64],\n",
      "        [64, 63, 84, 27],\n",
      "        [13, 46, 40, 11],\n",
      "        [42,  0, 92, 28]])\n"
     ]
    }
   ],
   "source": [
    "# Creating a random tensor\n",
    "x = torch.randint(high = 100, size = (4,4))\n",
    "print(x)"
   ]
  },
  {
   "cell_type": "markdown",
   "metadata": {},
   "source": [
    "### Reshaping\n",
    "\n",
    "The function `torch.reshape()` will assist in reshaping the input tensor.\n",
    "\n",
    "The shape has to be compatible. <br>\n",
    "ie, the number of elements has to be the same for desired shape and the input shape."
   ]
  },
  {
   "cell_type": "code",
   "execution_count": 26,
   "metadata": {},
   "outputs": [
    {
     "name": "stdout",
     "output_type": "stream",
     "text": [
      "tensor([[ 8, 25],\n",
      "        [63, 64],\n",
      "        [64, 63],\n",
      "        [84, 27],\n",
      "        [13, 46],\n",
      "        [40, 11],\n",
      "        [42,  0],\n",
      "        [92, 28]])\n",
      "\n",
      "tensor([[[ 8, 25, 63, 64],\n",
      "         [64, 63, 84, 27]],\n",
      "\n",
      "        [[13, 46, 40, 11],\n",
      "         [42,  0, 92, 28]]])\n"
     ]
    }
   ],
   "source": [
    "# Demonstrating reshape\n",
    "a = torch.reshape(x, shape = (8,2))\n",
    "print(a)\n",
    "\n",
    "print()\n",
    "\n",
    "b = torch.reshape(x, shape = (2,2,4))\n",
    "print(b)"
   ]
  },
  {
   "cell_type": "markdown",
   "metadata": {},
   "source": [
    "### View\n",
    "\n",
    "The function `<Tensor>.view()` will alter the view of the tensor to a different shape while sharing the same memory of the object (There is no copy created, just a different view).\n",
    "\n",
    "ie,\n",
    "`a = x.view(size)` <br>\n",
    "Altering the values of `a` will also alter the original tensor `x` and vice versa."
   ]
  },
  {
   "cell_type": "code",
   "execution_count": 27,
   "metadata": {},
   "outputs": [
    {
     "name": "stdout",
     "output_type": "stream",
     "text": [
      "tensor([[ 8, 25],\n",
      "        [63, 64],\n",
      "        [64, 63],\n",
      "        [84, 27],\n",
      "        [13, 46],\n",
      "        [40, 11],\n",
      "        [42,  0],\n",
      "        [92, 28]])\n",
      "\n",
      "tensor([[108, 125],\n",
      "        [163, 164],\n",
      "        [164, 163],\n",
      "        [184, 127],\n",
      "        [113, 146],\n",
      "        [140, 111],\n",
      "        [142, 100],\n",
      "        [192, 128]])\n",
      "\n",
      "tensor([[108, 125, 163, 164],\n",
      "        [164, 163, 184, 127],\n",
      "        [113, 146, 140, 111],\n",
      "        [142, 100, 192, 128]])\n"
     ]
    }
   ],
   "source": [
    "# Demonstrating <Tensor>.view()\n",
    "a = x.view(size = (8,2))\n",
    "print(a)\n",
    "print()\n",
    "\n",
    "# Altering 'a'\n",
    "a += 100\n",
    "print(a)\n",
    "print()\n",
    "\n",
    "# Tracking changes in 'x'\n",
    "print(x)"
   ]
  },
  {
   "cell_type": "markdown",
   "metadata": {},
   "source": [
    "### Stacking\n",
    "\n",
    "To stack different tensors. The stacking of tensors happens in a new dimension. \n",
    "\n",
    "Look at `torch.cat` for concatenation of tensors."
   ]
  },
  {
   "cell_type": "code",
   "execution_count": 28,
   "metadata": {},
   "outputs": [
    {
     "name": "stdout",
     "output_type": "stream",
     "text": [
      "tensor([[108, 125, 163, 164],\n",
      "        [164, 163, 184, 127],\n",
      "        [113, 146, 140, 111],\n",
      "        [142, 100, 192, 128]])\n",
      "torch.Size([4, 4])\n",
      "\n",
      "tensor([[[108, 125, 163, 164],\n",
      "         [164, 163, 184, 127],\n",
      "         [113, 146, 140, 111],\n",
      "         [142, 100, 192, 128]],\n",
      "\n",
      "        [[108, 125, 163, 164],\n",
      "         [164, 163, 184, 127],\n",
      "         [113, 146, 140, 111],\n",
      "         [142, 100, 192, 128]]])\n",
      "torch.Size([2, 4, 4])\n",
      "\n",
      "tensor([[[108, 125, 163, 164],\n",
      "         [108, 125, 163, 164]],\n",
      "\n",
      "        [[164, 163, 184, 127],\n",
      "         [164, 163, 184, 127]],\n",
      "\n",
      "        [[113, 146, 140, 111],\n",
      "         [113, 146, 140, 111]],\n",
      "\n",
      "        [[142, 100, 192, 128],\n",
      "         [142, 100, 192, 128]]])\n",
      "torch.Size([4, 2, 4])\n",
      "\n",
      "tensor([[[108, 108],\n",
      "         [125, 125],\n",
      "         [163, 163],\n",
      "         [164, 164]],\n",
      "\n",
      "        [[164, 164],\n",
      "         [163, 163],\n",
      "         [184, 184],\n",
      "         [127, 127]],\n",
      "\n",
      "        [[113, 113],\n",
      "         [146, 146],\n",
      "         [140, 140],\n",
      "         [111, 111]],\n",
      "\n",
      "        [[142, 142],\n",
      "         [100, 100],\n",
      "         [192, 192],\n",
      "         [128, 128]]])\n",
      "torch.Size([4, 4, 2])\n"
     ]
    }
   ],
   "source": [
    "print(x)\n",
    "print(x.shape)\n",
    "print()\n",
    "\n",
    "a = torch.stack([x,x], dim = 0)\n",
    "print(a)\n",
    "print(a.shape) # 2, 4, 4\n",
    "print()\n",
    "\n",
    "b = torch.stack([x,x], dim = 1)\n",
    "print(b)\n",
    "print(b.shape) # 4, 2, 4\n",
    "print()\n",
    "\n",
    "c = torch.stack([x,x], dim = 2)\n",
    "print(c)\n",
    "print(c.shape) # 4, 4, 2"
   ]
  },
  {
   "cell_type": "markdown",
   "metadata": {},
   "source": [
    "### Squeeze and Unsqueeze\n",
    "\n",
    "The `Tensor.squeeze()` function removes all the single dimensions in a tensor. The `Tensor.unsqueeze()` function add a single dimension at the given position."
   ]
  },
  {
   "cell_type": "code",
   "execution_count": 29,
   "metadata": {},
   "outputs": [
    {
     "name": "stdout",
     "output_type": "stream",
     "text": [
      "torch.Size([4, 3, 1, 2, 1])\n"
     ]
    }
   ],
   "source": [
    "# Create a random array\n",
    "x = torch.rand(size=(4,3,1,2,1))\n",
    "print(x.shape)"
   ]
  },
  {
   "cell_type": "code",
   "execution_count": 30,
   "metadata": {},
   "outputs": [
    {
     "name": "stdout",
     "output_type": "stream",
     "text": [
      "torch.Size([4, 3, 2])\n"
     ]
    }
   ],
   "source": [
    "# Demonstrating squeeze function\n",
    "y = x.squeeze()\n",
    "print(y.shape)"
   ]
  },
  {
   "cell_type": "code",
   "execution_count": 31,
   "metadata": {},
   "outputs": [
    {
     "name": "stdout",
     "output_type": "stream",
     "text": [
      "torch.Size([4, 1, 3, 2])\n"
     ]
    }
   ],
   "source": [
    "# Demonstrating unsqueeze function\n",
    "z = y.unsqueeze(dim=1)\n",
    "print(z.shape)"
   ]
  },
  {
   "cell_type": "markdown",
   "metadata": {},
   "source": [
    "### Permute\n",
    "\n",
    "The `Tensor.permute()` function will rearrange the dimensions of a tensor to a specific given order. \n",
    "\n",
    "This function returns a `view`. ie, the changes occured in one will show in the other."
   ]
  },
  {
   "cell_type": "code",
   "execution_count": 32,
   "metadata": {},
   "outputs": [
    {
     "data": {
      "text/plain": [
       "torch.Size([4, 3, 1, 2, 1])"
      ]
     },
     "execution_count": 32,
     "metadata": {},
     "output_type": "execute_result"
    }
   ],
   "source": [
    "# Shape of a tensor\n",
    "x.shape"
   ]
  },
  {
   "cell_type": "code",
   "execution_count": 33,
   "metadata": {},
   "outputs": [
    {
     "data": {
      "text/plain": [
       "torch.Size([1, 1, 3, 4, 2])"
      ]
     },
     "execution_count": 33,
     "metadata": {},
     "output_type": "execute_result"
    }
   ],
   "source": [
    "# Demonstrating permute()\n",
    "y = x.permute(4, 2, 1, 0, 3)\n",
    "y.shape"
   ]
  },
  {
   "cell_type": "code",
   "execution_count": 34,
   "metadata": {},
   "outputs": [
    {
     "name": "stdout",
     "output_type": "stream",
     "text": [
      "tensor(12.7454)\n",
      "\n",
      "tensor(36.7454)\n"
     ]
    }
   ],
   "source": [
    "# Verifying the 'view' aspect by using 'sum()'\n",
    "print(x.sum())\n",
    "print()\n",
    "\n",
    "y += 1\n",
    "print(x.sum()) # Each element raised by 1 (24 elements)"
   ]
  },
  {
   "cell_type": "markdown",
   "metadata": {},
   "source": [
    "## Indexing"
   ]
  },
  {
   "cell_type": "code",
   "execution_count": 35,
   "metadata": {},
   "outputs": [
    {
     "name": "stdout",
     "output_type": "stream",
     "text": [
      "tensor([[0.4089, 0.5780],\n",
      "        [0.2765, 0.9687],\n",
      "        [0.3533, 0.3963]])\n"
     ]
    }
   ],
   "source": [
    "# Create a random tensor\n",
    "x = torch.rand(size=(3, 2))\n",
    "print(x)"
   ]
  },
  {
   "cell_type": "code",
   "execution_count": 36,
   "metadata": {},
   "outputs": [
    {
     "name": "stdout",
     "output_type": "stream",
     "text": [
      "tensor([0.4089, 0.5780])\n",
      "\n",
      "tensor(0.5780)\n",
      "\n",
      "tensor(0.5780)\n"
     ]
    }
   ],
   "source": [
    "# Demonstrating specific indicies\n",
    "print(x[0])\n",
    "\n",
    "print()\n",
    "\n",
    "print(x[0][1])\n",
    "\n",
    "print()\n",
    "\n",
    "print(x[0, 1])"
   ]
  },
  {
   "cell_type": "code",
   "execution_count": 37,
   "metadata": {},
   "outputs": [
    {
     "name": "stdout",
     "output_type": "stream",
     "text": [
      "tensor([[0.4089, 0.5780],\n",
      "        [0.2765, 0.9687],\n",
      "        [0.3533, 0.3963]])\n",
      "\n",
      "tensor([0.4089, 0.2765, 0.3533])\n",
      "\n",
      "tensor([0.4089, 0.2765])\n",
      "\n",
      "tensor([0.2765, 0.9687])\n"
     ]
    }
   ],
   "source": [
    "# Demonstrating specific range\n",
    "print(x)\n",
    "\n",
    "print()\n",
    "\n",
    "print(x[:, 0]) # First column\n",
    "\n",
    "print()\n",
    "\n",
    "print(x[:2, 0]) # First two elements of first column\n",
    "\n",
    "print()\n",
    "\n",
    "print(x[1, :]) # Second row"
   ]
  },
  {
   "cell_type": "markdown",
   "metadata": {},
   "source": [
    "## PyTorch and NumPy\n",
    "\n",
    "Converting from NumPy to PyTorch or vice versa. NumPy is popular while handling and manipulating data, PyTorch is popular for deep learning.\n",
    "\n",
    "- To convert NumPy `ndarray` to PyTorch `tensor` - `torch.from_numpy()` <br>\n",
    "- To convert PyTorch `tensor` to NumPy `ndarray` - `Tensor.numpy()` <br>\n",
    "\n",
    "**Warning**:\n",
    "- For the above mentioned functions, any changes to one object will reflect in the other. They share the same memory. **use `torch.tensor` to create a copy.**\n",
    "- The default `dtype` of NumPy is `float64` whereas PyTorch uses `float32`."
   ]
  },
  {
   "cell_type": "code",
   "execution_count": 38,
   "metadata": {},
   "outputs": [
    {
     "data": {
      "text/plain": [
       "array([1., 2., 3., 4., 5., 6., 7., 8., 9.])"
      ]
     },
     "execution_count": 38,
     "metadata": {},
     "output_type": "execute_result"
    }
   ],
   "source": [
    "# A range of numbers\n",
    "a = np.arange(1.0, 10.0)\n",
    "a"
   ]
  },
  {
   "cell_type": "code",
   "execution_count": 39,
   "metadata": {},
   "outputs": [
    {
     "data": {
      "text/plain": [
       "tensor([1., 2., 3., 4., 5., 6., 7., 8., 9.], dtype=torch.float64)"
      ]
     },
     "execution_count": 39,
     "metadata": {},
     "output_type": "execute_result"
    }
   ],
   "source": [
    "# Convering it to tensor\n",
    "b = torch.from_numpy(a)\n",
    "b"
   ]
  },
  {
   "cell_type": "code",
   "execution_count": 40,
   "metadata": {},
   "outputs": [
    {
     "name": "stdout",
     "output_type": "stream",
     "text": [
      "[ 2.  3.  4.  5.  6.  7.  8.  9. 10.]\n",
      "\n",
      "tensor([ 2.,  3.,  4.,  5.,  6.,  7.,  8.,  9., 10.], dtype=torch.float64)\n"
     ]
    }
   ],
   "source": [
    "# Changing the ndarray object which reflects in tensor\n",
    "a += 1\n",
    "\n",
    "print(a)\n",
    "print()\n",
    "print(b)"
   ]
  },
  {
   "cell_type": "code",
   "execution_count": 41,
   "metadata": {},
   "outputs": [
    {
     "name": "stdout",
     "output_type": "stream",
     "text": [
      "[[0.55149378 0.24005318 0.53260238 0.54580144]\n",
      " [0.43573935 0.71033031 0.22043531 0.20448691]\n",
      " [0.91806012 0.28191468 0.93662012 0.05311328]]\n",
      "\n",
      "tensor([[0.5515, 0.2401, 0.5326, 0.5458],\n",
      "        [0.4357, 0.7103, 0.2204, 0.2045],\n",
      "        [0.9181, 0.2819, 0.9366, 0.0531]], dtype=torch.float64)\n",
      "<class 'torch.Tensor'>\n",
      "\n",
      "tensor([[0.5515, 0.2401, 0.5326, 0.5458],\n",
      "        [0.4357, 0.7103, 0.2204, 0.2045],\n",
      "        [0.9181, 0.2819, 0.9366, 0.0531]], dtype=torch.float64)\n"
     ]
    }
   ],
   "source": [
    "# Generating random numbers using NumPy [0,1)\n",
    "def_rng = np.random.default_rng()\n",
    "x = def_rng.random(size = (3,4))\n",
    "print(x)\n",
    "print()\n",
    "\n",
    "# Convert to tensor without sharing memory\n",
    "y = torch.tensor(x)\n",
    "print(y)\n",
    "print(type(y))\n",
    "print()\n",
    "\n",
    "x += 1\n",
    "print(y)"
   ]
  },
  {
   "cell_type": "markdown",
   "metadata": {},
   "source": [
    "## Loading tensors on the GPU"
   ]
  },
  {
   "cell_type": "code",
   "execution_count": 42,
   "metadata": {},
   "outputs": [
    {
     "name": "stdout",
     "output_type": "stream",
     "text": [
      "Mon Oct 28 12:00:56 2024       \n",
      "+-----------------------------------------------------------------------------------------+\n",
      "| NVIDIA-SMI 560.35.03              Driver Version: 560.81         CUDA Version: 12.6     |\n",
      "|-----------------------------------------+------------------------+----------------------+\n",
      "| GPU  Name                 Persistence-M | Bus-Id          Disp.A | Volatile Uncorr. ECC |\n",
      "| Fan  Temp   Perf          Pwr:Usage/Cap |           Memory-Usage | GPU-Util  Compute M. |\n",
      "|                                         |                        |               MIG M. |\n",
      "|=========================================+========================+======================|\n",
      "|   0  NVIDIA GeForce RTX 3060 ...    On  |   00000000:01:00.0  On |                  N/A |\n",
      "| N/A   49C    P8             14W /   77W |     493MiB /   6144MiB |      4%      Default |\n",
      "|                                         |                        |                  N/A |\n",
      "+-----------------------------------------+------------------------+----------------------+\n",
      "                                                                                         \n",
      "+-----------------------------------------------------------------------------------------+\n",
      "| Processes:                                                                              |\n",
      "|  GPU   GI   CI        PID   Type   Process name                              GPU Memory |\n",
      "|        ID   ID                                                               Usage      |\n",
      "|=========================================================================================|\n",
      "|  No running processes found                                                             |\n",
      "+-----------------------------------------------------------------------------------------+\n"
     ]
    }
   ],
   "source": [
    "# Check available GPUs\n",
    "!nvidia-smi"
   ]
  },
  {
   "cell_type": "code",
   "execution_count": 43,
   "metadata": {},
   "outputs": [
    {
     "name": "stdout",
     "output_type": "stream",
     "text": [
      "cuda\n"
     ]
    }
   ],
   "source": [
    "# Device agnostic code\n",
    "device = 'cuda' if torch.cuda.is_available() else 'cpu'\n",
    "print(device)"
   ]
  },
  {
   "cell_type": "code",
   "execution_count": 44,
   "metadata": {},
   "outputs": [
    {
     "name": "stdout",
     "output_type": "stream",
     "text": [
      "tensor([[0.3984, 0.5701, 0.9526, 0.3052],\n",
      "        [0.4218, 0.3641, 0.8012, 0.1967],\n",
      "        [0.8016, 0.9577, 0.0884, 0.5211]], device='cuda:0')\n"
     ]
    }
   ],
   "source": [
    "# Creating a tensor on GPU\n",
    "x = torch.rand(size = (3,4), device = device)\n",
    "print(x)"
   ]
  },
  {
   "cell_type": "code",
   "execution_count": 45,
   "metadata": {},
   "outputs": [
    {
     "name": "stdout",
     "output_type": "stream",
     "text": [
      "cpu\n",
      "\n",
      "cuda:0\n"
     ]
    }
   ],
   "source": [
    "# Moving a tensor from CPU to GPU\n",
    "x = torch.rand(size=(3,4))\n",
    "print(x.device)\n",
    "print()\n",
    "\n",
    "x_gpu = x.to(device)\n",
    "print(x_gpu.device)"
   ]
  },
  {
   "cell_type": "code",
   "execution_count": 46,
   "metadata": {},
   "outputs": [
    {
     "name": "stdout",
     "output_type": "stream",
     "text": [
      "cpu\n"
     ]
    }
   ],
   "source": [
    "# Moving a tensor from GPU to CPU\n",
    "    # Note: NumPy doesn't work on GPU, need to move before using numpy features\n",
    "x_cpu = x_gpu.cpu()\n",
    "print(x_cpu.device)"
   ]
  }
 ],
 "metadata": {
  "kernelspec": {
   "display_name": "torch-ztm",
   "language": "python",
   "name": "torch-ztm"
  },
  "language_info": {
   "codemirror_mode": {
    "name": "ipython",
    "version": 3
   },
   "file_extension": ".py",
   "mimetype": "text/x-python",
   "name": "python",
   "nbconvert_exporter": "python",
   "pygments_lexer": "ipython3",
   "version": "3.12.3"
  }
 },
 "nbformat": 4,
 "nbformat_minor": 2
}
