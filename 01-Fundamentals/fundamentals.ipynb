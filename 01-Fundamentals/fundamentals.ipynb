{
 "cells": [
  {
   "cell_type": "code",
   "execution_count": 1,
   "metadata": {},
   "outputs": [],
   "source": [
    "# Importing the necessary libraries\n",
    "\n",
    "import torch\n",
    "import numpy as np"
   ]
  },
  {
   "cell_type": "markdown",
   "metadata": {},
   "source": [
    "## Tensor Basics"
   ]
  },
  {
   "cell_type": "code",
   "execution_count": 2,
   "metadata": {},
   "outputs": [],
   "source": [
    "# Creating a matrix\n",
    "M = torch.tensor([[4,5],\n",
    "                  [5,2]]) # Matrix and Tensor have to CAPS (industry standard)"
   ]
  },
  {
   "cell_type": "code",
   "execution_count": 3,
   "metadata": {},
   "outputs": [
    {
     "data": {
      "text/plain": [
       "tensor(4)"
      ]
     },
     "execution_count": 3,
     "metadata": {},
     "output_type": "execute_result"
    }
   ],
   "source": [
    "# Retrieving elements of a tensor\n",
    "M[0][0]"
   ]
  },
  {
   "cell_type": "code",
   "execution_count": 4,
   "metadata": {},
   "outputs": [
    {
     "data": {
      "text/plain": [
       "torch.Size([2, 3, 3])"
      ]
     },
     "execution_count": 4,
     "metadata": {},
     "output_type": "execute_result"
    }
   ],
   "source": [
    "# Creating a tensor(3D)\n",
    "t = torch.tensor([[[4,5,6],\n",
    "                   [4,2,4],\n",
    "                   [4,6,2]],\n",
    "                  [[3,4,2],\n",
    "                   [3,2,6],\n",
    "                   [4,6,2]]])\n",
    "\n",
    "# Checking the shape of the tensor\n",
    "t.shape"
   ]
  },
  {
   "cell_type": "code",
   "execution_count": 5,
   "metadata": {},
   "outputs": [
    {
     "data": {
      "text/plain": [
       "tensor([[0.0110, 0.8272, 0.8948, 0.7311, 0.1987],\n",
       "        [0.6448, 0.6365, 0.7268, 0.1646, 0.0253],\n",
       "        [0.9347, 0.5036, 0.7598, 0.5117, 0.7501],\n",
       "        [0.4225, 0.2516, 0.7181, 0.3777, 0.8801],\n",
       "        [0.2208, 0.0334, 0.3422, 0.2826, 0.4822],\n",
       "        [0.7364, 0.1137, 0.6138, 0.5805, 0.0865],\n",
       "        [0.9373, 0.5806, 0.2282, 0.4219, 0.6555],\n",
       "        [0.1835, 0.7646, 0.2714, 0.5790, 0.5810]])"
      ]
     },
     "execution_count": 5,
     "metadata": {},
     "output_type": "execute_result"
    }
   ],
   "source": [
    "# Creating a random tensor\n",
    "random = torch.rand(size=(8,5))\n",
    "random"
   ]
  },
  {
   "cell_type": "code",
   "execution_count": 6,
   "metadata": {},
   "outputs": [
    {
     "data": {
      "text/plain": [
       "tensor([[0., 0., 0., 0.],\n",
       "        [0., 0., 0., 0.]])"
      ]
     },
     "execution_count": 6,
     "metadata": {},
     "output_type": "execute_result"
    }
   ],
   "source": [
    "# Creating a tensor of zeroes\n",
    "z = torch.zeros(size = (2,4))\n",
    "z"
   ]
  },
  {
   "cell_type": "code",
   "execution_count": 7,
   "metadata": {},
   "outputs": [
    {
     "data": {
      "text/plain": [
       "tensor([[1., 1., 1., 1.],\n",
       "        [1., 1., 1., 1.],\n",
       "        [1., 1., 1., 1.],\n",
       "        [1., 1., 1., 1.]])"
      ]
     },
     "execution_count": 7,
     "metadata": {},
     "output_type": "execute_result"
    }
   ],
   "source": [
    "# Creating a tensor of ones\n",
    "o = torch.ones(size = (4,4))\n",
    "o"
   ]
  },
  {
   "cell_type": "code",
   "execution_count": 8,
   "metadata": {},
   "outputs": [
    {
     "data": {
      "text/plain": [
       "tensor([25, 28, 31, 34, 37, 40, 43, 46, 49])"
      ]
     },
     "execution_count": 8,
     "metadata": {},
     "output_type": "execute_result"
    }
   ],
   "source": [
    "# A range of numbers with steps\n",
    "num_list = torch.arange(start=25, end=50, step = 3)\n",
    "num_list"
   ]
  },
  {
   "cell_type": "code",
   "execution_count": 9,
   "metadata": {},
   "outputs": [
    {
     "data": {
      "text/plain": [
       "tensor([0, 0, 0, 0, 0, 0, 0, 0, 0])"
      ]
     },
     "execution_count": 9,
     "metadata": {},
     "output_type": "execute_result"
    }
   ],
   "source": [
    "# Like functions of pytorch\n",
    "num_zeros = torch.zeros_like(input = num_list)\n",
    "num_zeros"
   ]
  },
  {
   "cell_type": "code",
   "execution_count": 10,
   "metadata": {},
   "outputs": [
    {
     "data": {
      "text/plain": [
       "True"
      ]
     },
     "execution_count": 10,
     "metadata": {},
     "output_type": "execute_result"
    }
   ],
   "source": [
    "# Verifying the shapes of 'like'\n",
    "num_zeros.shape == num_list.shape"
   ]
  },
  {
   "cell_type": "code",
   "execution_count": 11,
   "metadata": {},
   "outputs": [
    {
     "name": "stdout",
     "output_type": "stream",
     "text": [
      "tensor([[0.4341, 0.6821, 0.7790],\n",
      "        [0.6710, 0.3034, 0.2136],\n",
      "        [0.0865, 0.3179, 0.1942]])\n",
      "torch.float32\n",
      "\n",
      "tensor([[0.5732, 0.2593, 0.7124],\n",
      "        [0.2197, 0.2446, 0.2275],\n",
      "        [0.0669, 0.1426, 0.0977]], dtype=torch.float16)\n",
      "torch.float16\n"
     ]
    }
   ],
   "source": [
    "# Checking different dtypes\n",
    "a = torch.rand(size = (3,3))\n",
    "print(a)\n",
    "print(a.dtype)\n",
    "\n",
    "print()\n",
    "\n",
    "b = torch.rand(size = (3,3), dtype = torch.float16)\n",
    "print(b)\n",
    "print(b.dtype)"
   ]
  },
  {
   "cell_type": "code",
   "execution_count": 12,
   "metadata": {},
   "outputs": [
    {
     "name": "stdout",
     "output_type": "stream",
     "text": [
      "torch.float32\n"
     ]
    }
   ],
   "source": [
    "# Checking the resulting dtype\n",
    "c = a * b\n",
    "print(c.dtype) # chooses the dtype which is larger"
   ]
  },
  {
   "cell_type": "code",
   "execution_count": 13,
   "metadata": {},
   "outputs": [
    {
     "name": "stdout",
     "output_type": "stream",
     "text": [
      "torch.float16\n",
      "torch.float16\n"
     ]
    }
   ],
   "source": [
    "# Verifying the resulting dtype\n",
    "c = c.type(torch.float16)\n",
    "print(c.dtype)\n",
    "\n",
    "d = c * b\n",
    "print(d.dtype)"
   ]
  },
  {
   "cell_type": "markdown",
   "metadata": {},
   "source": [
    "## Tensor Operations"
   ]
  },
  {
   "cell_type": "code",
   "execution_count": 14,
   "metadata": {},
   "outputs": [
    {
     "name": "stdout",
     "output_type": "stream",
     "text": [
      "tensor([[1, 2, 3],\n",
      "        [4, 5, 6]])\n",
      "\n",
      "Addition\n",
      "tensor([[11, 12, 13],\n",
      "        [14, 15, 16]])\n",
      "\n",
      "Subtraction\n",
      "tensor([[-9, -8, -7],\n",
      "        [-6, -5, -4]])\n",
      "\n",
      "Scalar Multiplication\n",
      "tensor([[10, 20, 30],\n",
      "        [40, 50, 60]])\n",
      "\n",
      "Division\n",
      "tensor([[0.1000, 0.2000, 0.3000],\n",
      "        [0.4000, 0.5000, 0.6000]])\n"
     ]
    }
   ],
   "source": [
    "# Basic operations\n",
    "x = torch.tensor([[1,2,3],\n",
    "                  [4,5,6]])\n",
    "\n",
    "print(x)\n",
    "\n",
    "print()\n",
    "print(\"Addition\")\n",
    "print(x + 10)\n",
    "\n",
    "print()\n",
    "print(\"Subtraction\")\n",
    "print(x - 10)\n",
    "\n",
    "print()\n",
    "print(\"Scalar Multiplication\")\n",
    "print(x * 10)\n",
    "\n",
    "print()\n",
    "print(\"Division\")\n",
    "print(x / 10)"
   ]
  },
  {
   "cell_type": "code",
   "execution_count": 15,
   "metadata": {},
   "outputs": [
    {
     "name": "stdout",
     "output_type": "stream",
     "text": [
      "tensor([[11, 12, 13],\n",
      "        [14, 15, 16]])\n",
      "\n",
      "tensor([[11, 12, 13],\n",
      "        [14, 15, 16]])\n"
     ]
    }
   ],
   "source": [
    "# Other available functions for basic operations\n",
    "print(x.add(10))\n",
    "\n",
    "print()\n",
    "\n",
    "print(torch.add(x,10))"
   ]
  },
  {
   "cell_type": "code",
   "execution_count": 16,
   "metadata": {},
   "outputs": [
    {
     "name": "stdout",
     "output_type": "stream",
     "text": [
      "tensor([[ 30,  36,  42],\n",
      "        [ 66,  81,  96],\n",
      "        [102, 126, 150]])\n"
     ]
    }
   ],
   "source": [
    "# Matrix multiplication (dot product)\n",
    "a = torch.tensor([[1,2,3],\n",
    "                  [4,5,6],\n",
    "                  [7,8,9]])\n",
    "\n",
    "c = a.matmul(a)\n",
    "print(c)"
   ]
  },
  {
   "cell_type": "code",
   "execution_count": 17,
   "metadata": {},
   "outputs": [
    {
     "name": "stdout",
     "output_type": "stream",
     "text": [
      "tensor([[ 30,  36,  42],\n",
      "        [ 66,  81,  96],\n",
      "        [102, 126, 150]])\n",
      "\n",
      "tensor([[ 30,  36,  42],\n",
      "        [ 66,  81,  96],\n",
      "        [102, 126, 150]])\n"
     ]
    }
   ],
   "source": [
    "# Operator for matrix multiplication\n",
    "print(a @ a)\n",
    "\n",
    "print()\n",
    "\n",
    "# Other function for matrix multiplication\n",
    "print(torch.mm(a,a))"
   ]
  },
  {
   "cell_type": "code",
   "execution_count": 18,
   "metadata": {},
   "outputs": [
    {
     "name": "stdout",
     "output_type": "stream",
     "text": [
      "CPU times: user 2 μs, sys: 0 ns, total: 2 μs\n",
      "Wall time: 6.2 μs\n",
      "torch.Size([20, 30])\n"
     ]
    }
   ],
   "source": [
    "# Bigger tensor with time taken\n",
    "%time\n",
    "a = torch.rand(size=(20,25))\n",
    "b = torch.rand(size=(25,30))\n",
    "c = a.matmul(b)\n",
    "\n",
    "print(c.shape)"
   ]
  },
  {
   "cell_type": "code",
   "execution_count": 19,
   "metadata": {},
   "outputs": [
    {
     "name": "stdout",
     "output_type": "stream",
     "text": [
      "tensor([[0.6424, 0.4477],\n",
      "        [0.3921, 0.5673],\n",
      "        [0.4281, 0.7961]])\n",
      "\n",
      "Matrix Transposed\n",
      "tensor([[0.6424, 0.3921, 0.4281],\n",
      "        [0.4477, 0.5673, 0.7961]])\n",
      "\n",
      "tensor([[0.6131, 0.5058, 0.6314],\n",
      "        [0.5058, 0.4755, 0.6195],\n",
      "        [0.6314, 0.6195, 0.8171]])\n"
     ]
    }
   ],
   "source": [
    "# Matrix Transpose\n",
    "a = torch.rand(size=(3,2))\n",
    "print(a)\n",
    "\n",
    "print()\n",
    "\n",
    "print(\"Matrix Transposed\")\n",
    "print(a.T)\n",
    "\n",
    "print()\n",
    "\n",
    "b = torch.matmul(a, a.T)\n",
    "print(b)"
   ]
  },
  {
   "cell_type": "markdown",
   "metadata": {},
   "source": [
    "## Tensor Aggregation"
   ]
  },
  {
   "cell_type": "code",
   "execution_count": 20,
   "metadata": {},
   "outputs": [
    {
     "data": {
      "text/plain": [
       "tensor([[39., 58., 93., 64.],\n",
       "        [66., 91., 50., 80.],\n",
       "        [61., 18.,  7., 61.]])"
      ]
     },
     "execution_count": 20,
     "metadata": {},
     "output_type": "execute_result"
    }
   ],
   "source": [
    "# Random tensor\n",
    "x = torch.randint(high = 100, size=(3,4))\n",
    "x = x.type(torch.float32)\n",
    "x"
   ]
  },
  {
   "cell_type": "code",
   "execution_count": 21,
   "metadata": {},
   "outputs": [
    {
     "name": "stdout",
     "output_type": "stream",
     "text": [
      "tensor(7.)\n",
      "tensor(7.)\n",
      "\n",
      "tensor(93.)\n",
      "\n",
      "tensor(57.3333)\n",
      "tensor(688.)\n"
     ]
    }
   ],
   "source": [
    "# Min\n",
    "print(torch.min(x))\n",
    "print(x.min())\n",
    "print()\n",
    "\n",
    "# Max\n",
    "print(x.max())\n",
    "print()\n",
    "\n",
    "# Mean\n",
    "print(x.mean())\n",
    "\n",
    "# Sum\n",
    "print(x.sum())"
   ]
  },
  {
   "cell_type": "code",
   "execution_count": 22,
   "metadata": {},
   "outputs": [
    {
     "name": "stdout",
     "output_type": "stream",
     "text": [
      "Position of min:\n",
      "tensor(10)\n",
      "\n",
      "Postion of max:\n",
      "tensor(2)\n"
     ]
    }
   ],
   "source": [
    "# Positinal Min, Max (Arg Min, Max)\n",
    "print(\"Position of min:\")\n",
    "print(x.argmin())\n",
    "print()\n",
    "\n",
    "print(\"Postion of max:\")\n",
    "print(x.argmax())"
   ]
  },
  {
   "cell_type": "markdown",
   "metadata": {},
   "source": [
    "## Dimensional Manipulation"
   ]
  },
  {
   "cell_type": "code",
   "execution_count": 23,
   "metadata": {},
   "outputs": [
    {
     "name": "stdout",
     "output_type": "stream",
     "text": [
      "tensor([[11, 98, 10, 19],\n",
      "        [69, 39, 19,  6],\n",
      "        [64, 93, 11, 15],\n",
      "        [16, 95, 98, 25]])\n"
     ]
    }
   ],
   "source": [
    "# Creating a random tensor\n",
    "x = torch.randint(high = 100, size = (4,4))\n",
    "print(x)"
   ]
  },
  {
   "cell_type": "markdown",
   "metadata": {},
   "source": [
    "### Reshaping\n",
    "\n",
    "The function `torch.reshape()` will assist in reshaping the input tensor.\n",
    "\n",
    "The shape has to be compatible. <br>\n",
    "ie, the number of elements has to be the same for desired shape and the input shape."
   ]
  },
  {
   "cell_type": "code",
   "execution_count": 24,
   "metadata": {},
   "outputs": [
    {
     "name": "stdout",
     "output_type": "stream",
     "text": [
      "tensor([[11, 98],\n",
      "        [10, 19],\n",
      "        [69, 39],\n",
      "        [19,  6],\n",
      "        [64, 93],\n",
      "        [11, 15],\n",
      "        [16, 95],\n",
      "        [98, 25]])\n",
      "\n",
      "tensor([[[11, 98, 10, 19],\n",
      "         [69, 39, 19,  6]],\n",
      "\n",
      "        [[64, 93, 11, 15],\n",
      "         [16, 95, 98, 25]]])\n"
     ]
    }
   ],
   "source": [
    "# Demonstrating reshape\n",
    "a = torch.reshape(x, shape = (8,2))\n",
    "print(a)\n",
    "\n",
    "print()\n",
    "\n",
    "b = torch.reshape(x, shape = (2,2,4))\n",
    "print(b)"
   ]
  },
  {
   "cell_type": "markdown",
   "metadata": {},
   "source": [
    "### View\n",
    "\n",
    "The function `<Tensor>.view()` will alter the view of the tensor to a different shape while sharing the same memory of the object (There is no copy created, just a different view).\n",
    "\n",
    "ie,\n",
    "`a = x.view(size)` <br>\n",
    "Altering the values of `a` will also alter the original tensor `x` and vice versa."
   ]
  },
  {
   "cell_type": "code",
   "execution_count": 25,
   "metadata": {},
   "outputs": [
    {
     "name": "stdout",
     "output_type": "stream",
     "text": [
      "tensor([[11, 98],\n",
      "        [10, 19],\n",
      "        [69, 39],\n",
      "        [19,  6],\n",
      "        [64, 93],\n",
      "        [11, 15],\n",
      "        [16, 95],\n",
      "        [98, 25]])\n",
      "\n",
      "tensor([[111, 198],\n",
      "        [110, 119],\n",
      "        [169, 139],\n",
      "        [119, 106],\n",
      "        [164, 193],\n",
      "        [111, 115],\n",
      "        [116, 195],\n",
      "        [198, 125]])\n",
      "\n",
      "tensor([[111, 198, 110, 119],\n",
      "        [169, 139, 119, 106],\n",
      "        [164, 193, 111, 115],\n",
      "        [116, 195, 198, 125]])\n"
     ]
    }
   ],
   "source": [
    "# Demonstrating <Tensor>.view()\n",
    "a = x.view(size = (8,2))\n",
    "print(a)\n",
    "print()\n",
    "\n",
    "# Altering 'a'\n",
    "a += 100\n",
    "print(a)\n",
    "print()\n",
    "\n",
    "# Tracking changes in 'x'\n",
    "print(x)"
   ]
  },
  {
   "cell_type": "markdown",
   "metadata": {},
   "source": [
    "### Stacking\n",
    "\n",
    "To stack different tensors. You can choose to do it horizontally or vertically using `dim` argument. You could also stack in different dimensions for higher dimensional tensors."
   ]
  },
  {
   "cell_type": "code",
   "execution_count": 33,
   "metadata": {},
   "outputs": [
    {
     "name": "stdout",
     "output_type": "stream",
     "text": [
      "tensor([[111, 198, 110, 119],\n",
      "        [169, 139, 119, 106],\n",
      "        [164, 193, 111, 115],\n",
      "        [116, 195, 198, 125]])\n",
      "torch.Size([4, 4])\n",
      "\n",
      "tensor([[[111, 198, 110, 119],\n",
      "         [169, 139, 119, 106],\n",
      "         [164, 193, 111, 115],\n",
      "         [116, 195, 198, 125]],\n",
      "\n",
      "        [[111, 198, 110, 119],\n",
      "         [169, 139, 119, 106],\n",
      "         [164, 193, 111, 115],\n",
      "         [116, 195, 198, 125]]])\n",
      "torch.Size([2, 4, 4])\n",
      "\n",
      "tensor([[[111, 198, 110, 119],\n",
      "         [111, 198, 110, 119]],\n",
      "\n",
      "        [[169, 139, 119, 106],\n",
      "         [169, 139, 119, 106]],\n",
      "\n",
      "        [[164, 193, 111, 115],\n",
      "         [164, 193, 111, 115]],\n",
      "\n",
      "        [[116, 195, 198, 125],\n",
      "         [116, 195, 198, 125]]])\n",
      "torch.Size([4, 2, 4])\n",
      "\n",
      "tensor([[[111, 111],\n",
      "         [198, 198],\n",
      "         [110, 110],\n",
      "         [119, 119]],\n",
      "\n",
      "        [[169, 169],\n",
      "         [139, 139],\n",
      "         [119, 119],\n",
      "         [106, 106]],\n",
      "\n",
      "        [[164, 164],\n",
      "         [193, 193],\n",
      "         [111, 111],\n",
      "         [115, 115]],\n",
      "\n",
      "        [[116, 116],\n",
      "         [195, 195],\n",
      "         [198, 198],\n",
      "         [125, 125]]])\n",
      "torch.Size([4, 4, 2])\n"
     ]
    }
   ],
   "source": [
    "print(x)\n",
    "print(x.shape)\n",
    "print()\n",
    "\n",
    "a = torch.stack([x,x], dim = 0)\n",
    "print(a)\n",
    "print(a.shape) # 2, 4, 4\n",
    "print()\n",
    "\n",
    "b = torch.stack([x,x], dim = 1)\n",
    "print(b)\n",
    "print(b.shape) # 4, 2, 4\n",
    "print()\n",
    "\n",
    "c = torch.stack([x,x], dim = 2)\n",
    "print(c)\n",
    "print(c.shape) # 4, 4, 2"
   ]
  },
  {
   "cell_type": "markdown",
   "metadata": {},
   "source": [
    "### Squeeze and Unsqueeze\n",
    "\n",
    "The `Tensor.squeeze()` function removes all the single dimensions in a tensor. The `Tensor.unsqueeze()` function add a single dimension at the given position."
   ]
  },
  {
   "cell_type": "code",
   "execution_count": 35,
   "metadata": {},
   "outputs": [
    {
     "name": "stdout",
     "output_type": "stream",
     "text": [
      "torch.Size([4, 3, 1, 2, 1])\n"
     ]
    }
   ],
   "source": [
    "# Create a random array\n",
    "x = torch.rand(size=(4,3,1,2,1))\n",
    "print(x.shape)"
   ]
  },
  {
   "cell_type": "code",
   "execution_count": 37,
   "metadata": {},
   "outputs": [
    {
     "name": "stdout",
     "output_type": "stream",
     "text": [
      "torch.Size([4, 3, 2])\n"
     ]
    }
   ],
   "source": [
    "# Demonstrating squeeze function\n",
    "y = x.squeeze()\n",
    "print(y.shape)"
   ]
  },
  {
   "cell_type": "code",
   "execution_count": 39,
   "metadata": {},
   "outputs": [
    {
     "name": "stdout",
     "output_type": "stream",
     "text": [
      "torch.Size([4, 1, 3, 2])\n"
     ]
    }
   ],
   "source": [
    "# Demonstrating unsqueeze function\n",
    "z = y.unsqueeze(dim=1)\n",
    "print(z.shape)"
   ]
  },
  {
   "cell_type": "markdown",
   "metadata": {},
   "source": [
    "### Permute\n",
    "\n",
    "The `Tensor.permute()` function will rearrange the dimensions of a tensor to a specific given order. <br>\n",
    "This function returns a `view`. ie, the changes occured in one will show in the other."
   ]
  },
  {
   "cell_type": "code",
   "execution_count": 40,
   "metadata": {},
   "outputs": [
    {
     "data": {
      "text/plain": [
       "torch.Size([4, 3, 1, 2, 1])"
      ]
     },
     "execution_count": 40,
     "metadata": {},
     "output_type": "execute_result"
    }
   ],
   "source": [
    "# Shape of a tensor\n",
    "x.shape"
   ]
  },
  {
   "cell_type": "code",
   "execution_count": 44,
   "metadata": {},
   "outputs": [
    {
     "data": {
      "text/plain": [
       "torch.Size([1, 1, 3, 4, 2])"
      ]
     },
     "execution_count": 44,
     "metadata": {},
     "output_type": "execute_result"
    }
   ],
   "source": [
    "# Demonstrating permute()\n",
    "y = x.permute(4, 2, 1, 0, 3)\n",
    "y.shape"
   ]
  },
  {
   "cell_type": "code",
   "execution_count": 46,
   "metadata": {},
   "outputs": [
    {
     "name": "stdout",
     "output_type": "stream",
     "text": [
      "tensor(14.4183)\n",
      "\n",
      "tensor(38.4183)\n"
     ]
    }
   ],
   "source": [
    "# Verifying the 'view' aspect by using 'sum()'\n",
    "print(x.sum())\n",
    "print()\n",
    "\n",
    "y += 1\n",
    "print(x.sum()) # Each element raised by 1 (24 elements)"
   ]
  }
 ],
 "metadata": {
  "kernelspec": {
   "display_name": "torch-ztm",
   "language": "python",
   "name": "torch-ztm"
  },
  "language_info": {
   "codemirror_mode": {
    "name": "ipython",
    "version": 3
   },
   "file_extension": ".py",
   "mimetype": "text/x-python",
   "name": "python",
   "nbconvert_exporter": "python",
   "pygments_lexer": "ipython3",
   "version": "3.12.3"
  }
 },
 "nbformat": 4,
 "nbformat_minor": 2
}
