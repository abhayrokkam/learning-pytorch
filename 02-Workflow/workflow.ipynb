{
 "cells": [
  {
   "cell_type": "code",
   "execution_count": 2,
   "metadata": {},
   "outputs": [],
   "source": [
    "# Importing necessary libraries\n",
    "import torch\n",
    "from torch import nn # Foundation for neural networks\n",
    "import matplotlib.pyplot as plt"
   ]
  },
  {
   "cell_type": "markdown",
   "metadata": {},
   "source": [
    "# Data"
   ]
  },
  {
   "cell_type": "markdown",
   "metadata": {},
   "source": [
    "- Create data which follows the formula of linear regression. `y = mx + c`\n",
    "\n",
    "- Give specific values to the neural network parameters (weight, bias) to later see how well it does. This is obviously because neural network adjusts the `weight` and `bias` to fit the data.\n",
    "\n",
    "- Splitting the data for train and test sets, no validation set as we won't be validating the training steps.\n",
    "\n",
    "- Create a function to visualize the data."
   ]
  },
  {
   "cell_type": "code",
   "execution_count": 4,
   "metadata": {},
   "outputs": [],
   "source": [
    "# Declaring known parameters\n",
    "\n",
    "weight = 0.3        # slope (m)\n",
    "bias = 0.9          # intercept (c)"
   ]
  },
  {
   "cell_type": "code",
   "execution_count": 8,
   "metadata": {},
   "outputs": [
    {
     "name": "stdout",
     "output_type": "stream",
     "text": [
      "100 100\n",
      "\n",
      "tensor([[0.0000],\n",
      "        [0.5000],\n",
      "        [1.0000],\n",
      "        [1.5000],\n",
      "        [2.0000]])\n",
      "\n",
      "tensor([[0.9000],\n",
      "        [1.0500],\n",
      "        [1.2000],\n",
      "        [1.3500],\n",
      "        [1.5000]])\n"
     ]
    }
   ],
   "source": [
    "# Create data\n",
    "start = 0\n",
    "end = 50\n",
    "step = 0.5\n",
    "\n",
    "\n",
    "X = torch.arange(start = start, end = end, step = step).unsqueeze(dim = 1)\n",
    "y = weight * X + bias       # y = mx + c\n",
    "\n",
    "print(len(X), len(y))\n",
    "print()\n",
    "print(X[:5])\n",
    "print()\n",
    "print(y[:5])"
   ]
  },
  {
   "cell_type": "code",
   "execution_count": 12,
   "metadata": {},
   "outputs": [
    {
     "name": "stdout",
     "output_type": "stream",
     "text": [
      "Training Size: 80\n",
      "\n",
      "Testing Size: 20\n"
     ]
    }
   ],
   "source": [
    "# Splitting data to train and test sets\n",
    "train_split = int(0.8 * len(X))\n",
    "\n",
    "X_train, y_train = X[:train_split], y[:train_split]\n",
    "X_test, y_test = X[train_split:], y[train_split:]\n",
    "\n",
    "print(\"Training Size: \" + str(len(X_train)))\n",
    "print()\n",
    "print(\"Testing Size: \" + str(len(X_test)))"
   ]
  },
  {
   "cell_type": "code",
   "execution_count": 15,
   "metadata": {},
   "outputs": [],
   "source": [
    "# Function for charting the data\n",
    "def chart_data(train_data = X_train, \n",
    "               train_labels = y_train,\n",
    "               test_data = X_test,\n",
    "               test_labels = y_test,\n",
    "               predictions = None) -> None:\n",
    "    plt.figure(figsize=(8, 6))\n",
    "    \n",
    "    # Training Data\n",
    "    plt.scatter(train_data, train_labels, c = \"r\", s = 4, label = \"Training data\")\n",
    "    \n",
    "    # Testing Data\n",
    "    plt.scatter(test_data, test_labels, c = \"g\", s = 4, label = \"Testing Data\")\n",
    "    \n",
    "    # Predicitons\n",
    "    if predictions is None: pass\n",
    "    else:\n",
    "        plt.scatter(test_data, predictions, c = \"y\", s = 4, lable = \"Predictions\")\n",
    "        \n",
    "    # Legend\n",
    "    plt.legend(prop = {\"size\": 10})"
   ]
  },
  {
   "cell_type": "code",
   "execution_count": 16,
   "metadata": {},
   "outputs": [
    {
     "data": {
      "image/png": "[encoded data removed]",
      "text/plain": [
       "<Figure size 800x600 with 1 Axes>"
      ]
     },
     "metadata": {},
     "output_type": "display_data"
    }
   ],
   "source": [
    "chart_data()"
   ]
  },
  {
   "cell_type": "markdown",
   "metadata": {},
   "source": [
    "# Model"
   ]
  },
  {
   "cell_type": "code",
   "execution_count": null,
   "metadata": {},
   "outputs": [],
   "source": [
    "# Creating a linear regression model\n",
    "class LinearRegressionModel(nn.Module): # Subclass of nn.Module\n",
    "    def __init__(self):\n",
    "        super().__init__()\n",
    "        self.weights = nn.Parameter(torch.randn(1)) # randn -> normalized random\n",
    "        self.bias = nn.Parameter(torch.randn(1))\n",
    "    \n",
    "    # Forward pass\n",
    "    def forward(self, x) -> torch.Tensor:\n",
    "        return self.weights * x + bias"
   ]
  }
 ],
 "metadata": {
  "kernelspec": {
   "display_name": "torch-ztm",
   "language": "python",
   "name": "torch-ztm"
  },
  "language_info": {
   "codemirror_mode": {
    "name": "ipython",
    "version": 3
   },
   "file_extension": ".py",
   "mimetype": "text/x-python",
   "name": "python",
   "nbconvert_exporter": "python",
   "pygments_lexer": "ipython3",
   "version": "3.12.3"
  }
 },
 "nbformat": 4,
 "nbformat_minor": 2
}
